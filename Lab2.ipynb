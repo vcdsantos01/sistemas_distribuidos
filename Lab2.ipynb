{
 "cells": [
  {
   "cell_type": "code",
   "execution_count": 13,
   "id": "a3d55e09",
   "metadata": {},
   "outputs": [],
   "source": [
    "import sympy\n",
    "import concurrent.futures\n",
    "\n",
    "\n",
    "def tCalculaPrimo(data):\n",
    "    primos = 0\n",
    "    for i in range(len(data)):\n",
    "        if sympy.isprime(data[i]):\n",
    "            primos += 1\n",
    "    return primos\n",
    "\n",
    "def resolve_trhread(data, ThreadsQtdd):\n",
    "    tamanholista = len(data)\n",
    "    index = range(0, tamanholista+(tamanholista//ThreadsQtdd), tamanholista//ThreadsQtdd)\n",
    "    primos = 0\n",
    "    with concurrent.futures.ThreadPoolExecutor() as executor:\n",
    "        futures = []\n",
    "        for i in range(ThreadsQtdd):\n",
    "            futures.append(executor.submit(tCalculaPrimo, data=data[index[i]:index[i+1]]))\n",
    "        for future in concurrent.futures.as_completed(futures):\n",
    "            #futures.append(future.result())\n",
    "            primos += future.result()\n",
    "    return primos"
   ]
  },
  {
   "cell_type": "code",
   "execution_count": 14,
   "id": "cbcc6af4",
   "metadata": {},
   "outputs": [],
   "source": [
    "import sympy\n",
    "\n",
    "def resolve_simples(data):\n",
    "    tamanholista = len(data)\n",
    "    primos = 0\n",
    "    for i in range(tamanholista):\n",
    "        if sympy.isprime(data[i]):\n",
    "            primos += 1\n",
    "    return primos"
   ]
  },
  {
   "cell_type": "code",
   "execution_count": 15,
   "id": "e9993d36",
   "metadata": {},
   "outputs": [],
   "source": [
    "# importing pandas library  \n",
    "import pandas as pd \n",
    "\n",
    "def tabela(df,threads, tempo_exc, primo_mt,speedup):\n",
    "    #print(df)\n",
    "    A=[threads, tempo_exc, primo_mt,speedup]\n",
    "    #print(A)\n",
    "    \n",
    "    #s = pd.Series(A, index=df.columns)\n",
    "    #df = df.append(s, ignore_index=True)\n",
    "    \n",
    "    df.loc[len(df)] = A\n",
    "\n",
    "    #display(df)\n",
    "    return(df)"
   ]
  },
  {
   "cell_type": "code",
   "execution_count": 23,
   "id": "b513d9a8",
   "metadata": {},
   "outputs": [
    {
     "name": "stderr",
     "output_type": "stream",
     "text": [
      "Matplotlib is building the font cache; this may take a moment.\n"
     ]
    },
    {
     "name": "stdout",
     "output_type": "stream",
     "text": [
      "1\n",
      "2\n",
      "\n",
      "\n",
      "Analise de 250000 valores\n",
      "\n",
      "\n"
     ]
    },
    {
     "data": {
      "text/html": [
       "<div>\n",
       "<style scoped>\n",
       "    .dataframe tbody tr th:only-of-type {\n",
       "        vertical-align: middle;\n",
       "    }\n",
       "\n",
       "    .dataframe tbody tr th {\n",
       "        vertical-align: top;\n",
       "    }\n",
       "\n",
       "    .dataframe thead th {\n",
       "        text-align: right;\n",
       "    }\n",
       "</style>\n",
       "<table border=\"1\" class=\"dataframe\">\n",
       "  <thead>\n",
       "    <tr style=\"text-align: right;\">\n",
       "      <th></th>\n",
       "      <th>Threads</th>\n",
       "      <th>Execucao</th>\n",
       "      <th>Numeros_Primos</th>\n",
       "      <th>SpeedUp</th>\n",
       "    </tr>\n",
       "  </thead>\n",
       "  <tbody>\n",
       "    <tr>\n",
       "      <th>0</th>\n",
       "      <td>1.0</td>\n",
       "      <td>5627.9984</td>\n",
       "      <td>121299.0</td>\n",
       "      <td>1.006544</td>\n",
       "    </tr>\n",
       "    <tr>\n",
       "      <th>1</th>\n",
       "      <td>2.0</td>\n",
       "      <td>5679.0148</td>\n",
       "      <td>121299.0</td>\n",
       "      <td>0.997671</td>\n",
       "    </tr>\n",
       "    <tr>\n",
       "      <th>2</th>\n",
       "      <td>3.0</td>\n",
       "      <td>5673.9708</td>\n",
       "      <td>121298.0</td>\n",
       "      <td>0.999147</td>\n",
       "    </tr>\n",
       "    <tr>\n",
       "      <th>3</th>\n",
       "      <td>1.0</td>\n",
       "      <td>6057.2909</td>\n",
       "      <td>121299.0</td>\n",
       "      <td>0.938415</td>\n",
       "    </tr>\n",
       "    <tr>\n",
       "      <th>4</th>\n",
       "      <td>2.0</td>\n",
       "      <td>5740.3804</td>\n",
       "      <td>121299.0</td>\n",
       "      <td>0.984678</td>\n",
       "    </tr>\n",
       "    <tr>\n",
       "      <th>5</th>\n",
       "      <td>3.0</td>\n",
       "      <td>5663.2713</td>\n",
       "      <td>121298.0</td>\n",
       "      <td>0.998515</td>\n",
       "    </tr>\n",
       "  </tbody>\n",
       "</table>\n",
       "</div>"
      ],
      "text/plain": [
       "   Threads   Execucao  Numeros_Primos   SpeedUp\n",
       "0      1.0  5627.9984        121299.0  1.006544\n",
       "1      2.0  5679.0148        121299.0  0.997671\n",
       "2      3.0  5673.9708        121298.0  0.999147\n",
       "3      1.0  6057.2909        121299.0  0.938415\n",
       "4      2.0  5740.3804        121299.0  0.984678\n",
       "5      3.0  5663.2713        121298.0  0.998515"
      ]
     },
     "metadata": {},
     "output_type": "display_data"
    },
    {
     "data": {
      "text/plain": [
       "<AxesSubplot:xlabel='SpeedUp', ylabel='Threads'>"
      ]
     },
     "execution_count": 23,
     "metadata": {},
     "output_type": "execute_result"
    },
    {
     "data": {
      "image/png": "[encoded data removed]",
      "text/plain": [
       "<Figure size 432x288 with 1 Axes>"
      ]
     },
     "metadata": {
      "needs_background": "light"
     },
     "output_type": "display_data"
    }
   ],
   "source": [
    "from time import perf_counter_ns\n",
    "import pandas as pd \n",
    "import matplotlib.pyplot as plt\n",
    "lista = [1,2,3]\n",
    "i=0\n",
    "df = pd.DataFrame(columns=['Threads','Execucao','Numeros_Primos', 'SpeedUp'])\n",
    "with open(\"data.csv\") as file:\n",
    "    data = [line.strip() for line in file]\n",
    "    \n",
    "while i<=1:\n",
    "    for x in lista:\n",
    "        \n",
    "        threads = x\n",
    "        data = list(map(int, data))\n",
    "    \n",
    "        start1 = perf_counter_ns()\n",
    "        primo_sp = resolve_simples(data)\n",
    "        finish1 = perf_counter_ns()\n",
    "\n",
    "        start2 = perf_counter_ns()\n",
    "        primo_mt = resolve_trhread(data, threads)\n",
    "        finish2 = perf_counter_ns()\n",
    "\n",
    "        tempo_exc = (finish2-start2)/1000000\n",
    "        speedup = (finish1-start1)/(finish2-start2)\n",
    "\n",
    "        df_2 = tabela(df,threads, tempo_exc, primo_mt,speedup)\n",
    "    i=i+1\n",
    "    print(i)\n",
    "    \n",
    "print('\\n\\nAnalise de %d valores\\n\\n'%(len(data)))\n",
    "display(df_2)\n",
    "\n",
    "df_2.plot(x ='SpeedUp', y='Threads', kind = 'scatter')\n"
   ]
  },
  {
   "cell_type": "code",
   "execution_count": null,
   "id": "de559ba8",
   "metadata": {},
   "outputs": [],
   "source": []
  }
 ],
 "metadata": {
  "kernelspec": {
   "display_name": "Python 3",
   "language": "python",
   "name": "python3"
  },
  "language_info": {
   "codemirror_mode": {
    "name": "ipython",
    "version": 3
   },
   "file_extension": ".py",
   "mimetype": "text/x-python",
   "name": "python",
   "nbconvert_exporter": "python",
   "pygments_lexer": "ipython3",
   "version": "3.8.8"
  }
 },
 "nbformat": 4,
 "nbformat_minor": 5
}
